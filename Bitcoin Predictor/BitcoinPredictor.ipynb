{
 "cells": [
  {
   "cell_type": "code",
   "execution_count": 1,
   "metadata": {},
   "outputs": [],
   "source": [
    "import pandas as pd\n",
    "import numpy as np"
   ]
  },
  {
   "cell_type": "code",
   "execution_count": 3,
   "metadata": {},
   "outputs": [],
   "source": [
    "df = pd.read_csv(\"BTC-Daily.csv\")"
   ]
  },
  {
   "cell_type": "code",
   "execution_count": 4,
   "metadata": {},
   "outputs": [
    {
     "data": {
      "text/html": [
       "<div>\n",
       "<style scoped>\n",
       "    .dataframe tbody tr th:only-of-type {\n",
       "        vertical-align: middle;\n",
       "    }\n",
       "\n",
       "    .dataframe tbody tr th {\n",
       "        vertical-align: top;\n",
       "    }\n",
       "\n",
       "    .dataframe thead th {\n",
       "        text-align: right;\n",
       "    }\n",
       "</style>\n",
       "<table border=\"1\" class=\"dataframe\">\n",
       "  <thead>\n",
       "    <tr style=\"text-align: right;\">\n",
       "      <th></th>\n",
       "      <th>unix</th>\n",
       "      <th>date</th>\n",
       "      <th>symbol</th>\n",
       "      <th>open</th>\n",
       "      <th>high</th>\n",
       "      <th>low</th>\n",
       "      <th>close</th>\n",
       "      <th>Volume BTC</th>\n",
       "      <th>Volume USD</th>\n",
       "    </tr>\n",
       "  </thead>\n",
       "  <tbody>\n",
       "    <tr>\n",
       "      <th>0</th>\n",
       "      <td>1646092800</td>\n",
       "      <td>2022-03-01 00:00:00</td>\n",
       "      <td>BTC/USD</td>\n",
       "      <td>43221.71</td>\n",
       "      <td>43626.49</td>\n",
       "      <td>43185.48</td>\n",
       "      <td>43185.48</td>\n",
       "      <td>49.006289</td>\n",
       "      <td>2.116360e+06</td>\n",
       "    </tr>\n",
       "    <tr>\n",
       "      <th>1</th>\n",
       "      <td>1646006400</td>\n",
       "      <td>2022-02-28 00:00:00</td>\n",
       "      <td>BTC/USD</td>\n",
       "      <td>37717.10</td>\n",
       "      <td>44256.08</td>\n",
       "      <td>37468.99</td>\n",
       "      <td>43178.98</td>\n",
       "      <td>3160.618070</td>\n",
       "      <td>1.364723e+08</td>\n",
       "    </tr>\n",
       "    <tr>\n",
       "      <th>2</th>\n",
       "      <td>1645920000</td>\n",
       "      <td>2022-02-27 00:00:00</td>\n",
       "      <td>BTC/USD</td>\n",
       "      <td>39146.66</td>\n",
       "      <td>39886.92</td>\n",
       "      <td>37015.74</td>\n",
       "      <td>37712.68</td>\n",
       "      <td>1701.817043</td>\n",
       "      <td>6.418008e+07</td>\n",
       "    </tr>\n",
       "    <tr>\n",
       "      <th>3</th>\n",
       "      <td>1645833600</td>\n",
       "      <td>2022-02-26 00:00:00</td>\n",
       "      <td>BTC/USD</td>\n",
       "      <td>39242.64</td>\n",
       "      <td>40330.99</td>\n",
       "      <td>38600.00</td>\n",
       "      <td>39146.66</td>\n",
       "      <td>912.724087</td>\n",
       "      <td>3.573010e+07</td>\n",
       "    </tr>\n",
       "    <tr>\n",
       "      <th>4</th>\n",
       "      <td>1645747200</td>\n",
       "      <td>2022-02-25 00:00:00</td>\n",
       "      <td>BTC/USD</td>\n",
       "      <td>38360.93</td>\n",
       "      <td>39727.97</td>\n",
       "      <td>38027.61</td>\n",
       "      <td>39231.64</td>\n",
       "      <td>2202.851827</td>\n",
       "      <td>8.642149e+07</td>\n",
       "    </tr>\n",
       "  </tbody>\n",
       "</table>\n",
       "</div>"
      ],
      "text/plain": [
       "         unix                 date   symbol      open      high       low  \\\n",
       "0  1646092800  2022-03-01 00:00:00  BTC/USD  43221.71  43626.49  43185.48   \n",
       "1  1646006400  2022-02-28 00:00:00  BTC/USD  37717.10  44256.08  37468.99   \n",
       "2  1645920000  2022-02-27 00:00:00  BTC/USD  39146.66  39886.92  37015.74   \n",
       "3  1645833600  2022-02-26 00:00:00  BTC/USD  39242.64  40330.99  38600.00   \n",
       "4  1645747200  2022-02-25 00:00:00  BTC/USD  38360.93  39727.97  38027.61   \n",
       "\n",
       "      close   Volume BTC    Volume USD  \n",
       "0  43185.48    49.006289  2.116360e+06  \n",
       "1  43178.98  3160.618070  1.364723e+08  \n",
       "2  37712.68  1701.817043  6.418008e+07  \n",
       "3  39146.66   912.724087  3.573010e+07  \n",
       "4  39231.64  2202.851827  8.642149e+07  "
      ]
     },
     "execution_count": 4,
     "metadata": {},
     "output_type": "execute_result"
    }
   ],
   "source": [
    "df.head()"
   ]
  },
  {
   "cell_type": "code",
   "execution_count": 16,
   "metadata": {},
   "outputs": [
    {
     "data": {
      "text/plain": [
       "(4,)"
      ]
     },
     "execution_count": 16,
     "metadata": {},
     "output_type": "execute_result"
    }
   ],
   "source": [
    "x = np.random.rand(4, 5)\n",
    "\n",
    "y = np.sum(x, axis=1)\n",
    "y.shape"
   ]
  },
  {
   "cell_type": "code",
   "execution_count": null,
   "metadata": {},
   "outputs": [
    {
     "data": {
      "text/plain": [
       "array([[4, 1],\n",
       "       [1, 9]])"
      ]
     },
     "execution_count": 6,
     "metadata": {},
     "output_type": "execute_result"
    }
   ],
   "source": []
  },
  {
   "cell_type": "code",
   "execution_count": null,
   "metadata": {},
   "outputs": [],
   "source": []
  }
 ],
 "metadata": {
  "kernelspec": {
   "display_name": "Python 3",
   "language": "python",
   "name": "python3"
  },
  "language_info": {
   "codemirror_mode": {
    "name": "ipython",
    "version": 3
   },
   "file_extension": ".py",
   "mimetype": "text/x-python",
   "name": "python",
   "nbconvert_exporter": "python",
   "pygments_lexer": "ipython3",
   "version": "3.12.4"
  }
 },
 "nbformat": 4,
 "nbformat_minor": 2
}
